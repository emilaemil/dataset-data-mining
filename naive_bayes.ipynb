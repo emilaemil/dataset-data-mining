{
  "nbformat": 4,
  "nbformat_minor": 0,
  "metadata": {
    "colab": {
      "provenance": [],
      "authorship_tag": "ABX9TyPvFFASyxwjvCGXgh/SRU/F",
      "include_colab_link": true
    },
    "kernelspec": {
      "name": "python3",
      "display_name": "Python 3"
    },
    "language_info": {
      "name": "python"
    }
  },
  "cells": [
    {
      "cell_type": "markdown",
      "metadata": {
        "id": "view-in-github",
        "colab_type": "text"
      },
      "source": [
        "<a href=\"https://colab.research.google.com/github/emilaemil/dataset-data-mining/blob/main/naive_bayes.ipynb\" target=\"_parent\"><img src=\"https://colab.research.google.com/assets/colab-badge.svg\" alt=\"Open In Colab\"/></a>"
      ]
    },
    {
      "cell_type": "code",
      "execution_count": 33,
      "metadata": {
        "id": "N8ArmtT4qsg_"
      },
      "outputs": [],
      "source": [
        "import numpy as np\n",
        "import matplotlib.pyplot as plt\n",
        "import pandas as pd"
      ]
    },
    {
      "cell_type": "code",
      "source": [
        "dataset = pd.read_csv('customers-data-modif.csv')\n",
        "x = dataset.iloc[:, [2, 3]].values\n",
        "y = dataset.iloc[:, -1].values"
      ],
      "metadata": {
        "id": "iBmHsmZF4Q1M"
      },
      "execution_count": 34,
      "outputs": []
    },
    {
      "cell_type": "code",
      "source": [
        "print(x)"
      ],
      "metadata": {
        "colab": {
          "base_uri": "https://localhost:8080/"
        },
        "id": "ElFr5xJ57kE0",
        "outputId": "92017aa6-8cf5-4a43-f947-7583fdcec307"
      },
      "execution_count": 36,
      "outputs": [
        {
          "output_type": "stream",
          "name": "stdout",
          "text": [
            "[[    19  15000]\n",
            " [    21  35000]\n",
            " [    20  86000]\n",
            " ...\n",
            " [    87  90961]\n",
            " [    77 182109]\n",
            " [    90 110610]]\n"
          ]
        }
      ]
    },
    {
      "cell_type": "code",
      "source": [
        "print(y)"
      ],
      "metadata": {
        "colab": {
          "base_uri": "https://localhost:8080/"
        },
        "id": "C1lRyP4B7mgz",
        "outputId": "66a302ff-928b-452d-a37f-a9c01564eacc"
      },
      "execution_count": 37,
      "outputs": [
        {
          "output_type": "stream",
          "name": "stdout",
          "text": [
            "[1 1 1 ... 1 1 1]\n"
          ]
        }
      ]
    },
    {
      "cell_type": "code",
      "source": [
        "from sklearn.model_selection import train_test_split\n",
        "x_train, x_test, y_train, y_test = train_test_split(x, y, test_size = 0.125, random_state = 0)"
      ],
      "metadata": {
        "id": "0WGsV5Mr4ZHo"
      },
      "execution_count": 49,
      "outputs": []
    },
    {
      "cell_type": "code",
      "source": [
        "print(x_train)"
      ],
      "metadata": {
        "colab": {
          "base_uri": "https://localhost:8080/"
        },
        "id": "e6_V6j-L7p1z",
        "outputId": "9de07e39-57eb-4ec5-b13a-de9f72a99a49"
      },
      "execution_count": 50,
      "outputs": [
        {
          "output_type": "stream",
          "name": "stdout",
          "text": [
            "[[    97 129444]\n",
            " [     5 142351]\n",
            " [    69  76155]\n",
            " ...\n",
            " [    52 133214]\n",
            " [     0 151298]\n",
            " [    54 145679]]\n"
          ]
        }
      ]
    },
    {
      "cell_type": "code",
      "source": [
        "print(x_test)"
      ],
      "metadata": {
        "colab": {
          "base_uri": "https://localhost:8080/"
        },
        "id": "D1E7s1mx7z2f",
        "outputId": "5e7bf632-d233-483b-d671-8906b42a0afe"
      },
      "execution_count": 51,
      "outputs": [
        {
          "output_type": "stream",
          "name": "stdout",
          "text": [
            "[[    65 119889]\n",
            " [    97 142214]\n",
            " [    84 133765]\n",
            " [     8 119780]\n",
            " [     6 122961]\n",
            " [    38 161130]\n",
            " [    39 152566]\n",
            " [    40 171949]\n",
            " [    64  55011]\n",
            " [    52  20000]\n",
            " [    24  86119]\n",
            " [    13 174530]\n",
            " [    89  65000]\n",
            " [    32  98000]\n",
            " [    27  99950]\n",
            " [    65  72313]\n",
            " [    64 156777]\n",
            " [    20 148776]\n",
            " [    27 115438]\n",
            " [    56  86898]\n",
            " [    52 164038]\n",
            " [    64 135742]\n",
            " [    11 166247]\n",
            " [    28  69025]\n",
            " [    41  94316]\n",
            " [    72 176074]\n",
            " [     7 134008]\n",
            " [    91  51733]\n",
            " [    48 174109]\n",
            " [    90 158280]\n",
            " [    60 189945]\n",
            " [    65  90414]\n",
            " [    76 132537]\n",
            " [    79  95839]\n",
            " [     8 104953]\n",
            " [    31 158479]\n",
            " [    33  84238]\n",
            " [    37  16000]\n",
            " [    54 144502]\n",
            " [    65  56583]\n",
            " [    35  78000]\n",
            " [    18  77873]\n",
            " [     3 167226]\n",
            " [    20  89000]\n",
            " [    40 184222]\n",
            " [    53 140107]\n",
            " [    99  63364]\n",
            " [    93  19000]\n",
            " [    17 125471]\n",
            " [    57  73845]\n",
            " [    80  68341]\n",
            " [    42  53392]\n",
            " [    45  67000]\n",
            " [    83 135268]\n",
            " [    68  48000]\n",
            " [    68  71467]\n",
            " [    28  79968]\n",
            " [    14 140107]\n",
            " [    55  99423]\n",
            " [    48  70844]\n",
            " [     5 168110]\n",
            " [     7 170345]\n",
            " [    30 139758]\n",
            " [    97 148493]\n",
            " [    27  71000]\n",
            " [     0 147719]\n",
            " [    90  89667]\n",
            " [    68 170957]\n",
            " [     3  64824]\n",
            " [    23 181760]\n",
            " [    16   9000]\n",
            " [    85  82854]\n",
            " [    19 151382]\n",
            " [    18  53812]\n",
            " [     0 173743]\n",
            " [    39  62935]\n",
            " [    29  92000]\n",
            " [    46  11000]\n",
            " [    32 181703]\n",
            " [    34 171353]\n",
            " [    82 114776]\n",
            " [    54  78000]\n",
            " [     7 136231]\n",
            " [    19 189498]\n",
            " [     9 124125]\n",
            " [    32  31000]\n",
            " [    21 161663]\n",
            " [    63  47000]\n",
            " [    66 125024]\n",
            " [    38 148539]\n",
            " [    59  68000]\n",
            " [    32 100890]\n",
            " [    34  51000]\n",
            " [    55 123045]\n",
            " [    55 148875]\n",
            " [    90 110610]\n",
            " [    77 151985]\n",
            " [    57  52000]\n",
            " [    84  56809]\n",
            " [    37  79000]\n",
            " [     0 165321]\n",
            " [    72 152405]\n",
            " [    91  71925]\n",
            " [    42 152547]\n",
            " [    30  62000]\n",
            " [    93  88192]\n",
            " [    52 100261]\n",
            " [    16  67178]\n",
            " [    95  67227]\n",
            " [    15  81138]\n",
            " [    20 151124]\n",
            " [    23  75961]\n",
            " [    18 129260]\n",
            " [    93 166018]\n",
            " [    90 182910]\n",
            " [    66 178627]\n",
            " [    97  75125]\n",
            " [    40  99000]\n",
            " [    13 156951]\n",
            " [    30  98000]\n",
            " [    93  73642]\n",
            " [    35  31000]\n",
            " [     6 101031]\n",
            " [    29  50000]\n",
            " [    24  51661]\n",
            " [    69 143928]\n",
            " [    63 120955]\n",
            " [    39 100419]\n",
            " [    64  71305]\n",
            " [    16  60044]\n",
            " [     2 122698]\n",
            " [    28  26000]\n",
            " [    92  83000]\n",
            " [    46  66000]\n",
            " [    19 134644]\n",
            " [    76 156330]\n",
            " [    60 185306]\n",
            " [    25  88064]\n",
            " [    25  51700]\n",
            " [    78   3000]\n",
            " [     1 165711]\n",
            " [    19  58217]\n",
            " [    97 125731]\n",
            " [    91 181775]\n",
            " [    48  31000]\n",
            " [    33 129257]\n",
            " [    45 183217]\n",
            " [    51  84000]\n",
            " [     1  89473]\n",
            " [    69 168710]\n",
            " [     0  68761]\n",
            " [    40  54631]\n",
            " [    85 131742]\n",
            " [    45 138775]\n",
            " [    60  39000]\n",
            " [    62  92768]\n",
            " [    46  27000]\n",
            " [     1  75518]\n",
            " [    53  86766]\n",
            " [    12 149031]\n",
            " [    77 124995]\n",
            " [    35 145654]\n",
            " [    85  68212]\n",
            " [    42  94844]\n",
            " [    11 152765]\n",
            " [    17 116463]\n",
            " [    34  93866]\n",
            " [    98  87955]\n",
            " [    81 148594]\n",
            " [    44  73760]\n",
            " [    20 119952]\n",
            " [    51  58006]\n",
            " [    23  12000]\n",
            " [    28  44000]\n",
            " [    78  59971]\n",
            " [    29 133587]\n",
            " [    58  74869]\n",
            " [    22 107941]\n",
            " [     4 170403]\n",
            " [    21  40000]\n",
            " [    20 124852]\n",
            " [     1 100429]\n",
            " [    48 131656]\n",
            " [    78   3000]\n",
            " [    16 100939]\n",
            " [    73  93786]\n",
            " [    68  87040]\n",
            " [    92  78308]\n",
            " [    15  94000]\n",
            " [    68 173047]\n",
            " [    12  63334]\n",
            " [    42  59954]\n",
            " [     0  57373]\n",
            " [    40 185321]\n",
            " [     3 144103]\n",
            " [    44 131091]\n",
            " [    62 149797]\n",
            " [    79 143560]\n",
            " [     3 188557]\n",
            " [    30 173096]\n",
            " [    25 106669]\n",
            " [    31 134263]\n",
            " [    24  78223]\n",
            " [    52 189091]\n",
            " [    23 127971]\n",
            " [    80 106709]\n",
            " [    87 149685]\n",
            " [    94  86172]\n",
            " [    48 123234]\n",
            " [    52  86365]\n",
            " [    73  80000]\n",
            " [    16 125836]\n",
            " [    56  97562]\n",
            " [    99 122548]\n",
            " [    39  84000]\n",
            " [    30 144043]\n",
            " [    67 118348]\n",
            " [    26  26000]\n",
            " [    38  76103]\n",
            " [    31 189446]\n",
            " [    54 186359]\n",
            " [    88 121597]\n",
            " [    60 150019]\n",
            " [    47 104834]\n",
            " [    51 141416]\n",
            " [    95 137206]\n",
            " [    11 181026]\n",
            " [    72  82377]\n",
            " [     5  69443]\n",
            " [    90  62504]\n",
            " [     3 158549]\n",
            " [    49  91000]\n",
            " [    92 171794]\n",
            " [    27  74050]\n",
            " [    94 131521]\n",
            " [    89 122707]\n",
            " [    41  69730]\n",
            " [    25 100964]\n",
            " [    37 149095]\n",
            " [    96  67799]\n",
            " [    28  62186]\n",
            " [    91  97879]\n",
            " [    97  66312]\n",
            " [     5  83704]\n",
            " [    94  90082]\n",
            " [    81  50798]\n",
            " [    84  53500]\n",
            " [    83 131574]\n",
            " [    52 130573]\n",
            " [    30  28000]]\n"
          ]
        }
      ]
    },
    {
      "cell_type": "code",
      "source": [
        "print(y_train)"
      ],
      "metadata": {
        "colab": {
          "base_uri": "https://localhost:8080/"
        },
        "id": "n92Ko2hL727x",
        "outputId": "39f3442f-0565-4799-b54f-90113e9aa9b2"
      },
      "execution_count": 52,
      "outputs": [
        {
          "output_type": "stream",
          "name": "stdout",
          "text": [
            "[1 0 1 ... 1 0 0]\n"
          ]
        }
      ]
    },
    {
      "cell_type": "code",
      "source": [
        "print(y_test)"
      ],
      "metadata": {
        "colab": {
          "base_uri": "https://localhost:8080/"
        },
        "id": "0dsp_tKS78nU",
        "outputId": "3c181cc7-6dd2-4f70-c2e2-95c850652717"
      },
      "execution_count": 53,
      "outputs": [
        {
          "output_type": "stream",
          "name": "stdout",
          "text": [
            "[1 1 1 1 1 1 1 1 1 1 1 1 0 1 0 1 1 1 0 0 1 1 1 0 0 1 1 0 0 1 0 1 1 1 1 1 1\n",
            " 1 1 1 1 1 1 1 0 1 1 1 1 1 1 1 0 1 1 1 1 1 0 0 1 1 0 1 1 1 0 1 1 1 1 1 1 1\n",
            " 0 0 1 1 1 1 1 1 1 1 1 1 1 1 0 1 0 1 1 1 0 1 1 0 1 1 1 1 1 1 1 1 1 1 1 1 1\n",
            " 1 1 0 0 1 1 1 1 1 0 1 1 1 0 1 1 1 1 1 1 1 1 1 1 1 0 1 1 1 1 0 1 1 1 1 1 1\n",
            " 1 1 1 0 1 0 0 1 1 1 1 1 0 1 1 1 1 1 1 0 1 1 1 1 1 1 1 1 0 0 1 0 1 1 1 0 1\n",
            " 1 1 1 1 0 0 1 0 0 1 1 1 1 1 0 1 1 0 0 1 1 1 1 1 1 1 1 1 1 1 1 1 1 1 1 1 0\n",
            " 1 0 1 0 1 1 1 1 0 1 1 1 0 1 1 1 1 1 0 1 0 1 1 1 1 1 1 1]\n"
          ]
        }
      ]
    },
    {
      "cell_type": "code",
      "source": [
        "from sklearn.preprocessing import StandardScaler\n",
        "sc = StandardScaler()\n",
        "x_train = sc.fit_transform(x_train)\n",
        "x_test = sc.transform(x_test)"
      ],
      "metadata": {
        "id": "L26dBanz4b5Y"
      },
      "execution_count": 54,
      "outputs": []
    },
    {
      "cell_type": "code",
      "source": [
        "print(x_train)"
      ],
      "metadata": {
        "colab": {
          "base_uri": "https://localhost:8080/"
        },
        "id": "hkeOxFHk8DTI",
        "outputId": "7f59901d-0717-4891-ca5d-e5f29f30b09d"
      },
      "execution_count": 55,
      "outputs": [
        {
          "output_type": "stream",
          "name": "stdout",
          "text": [
            "[[ 1.68335418  0.39794279]\n",
            " [-1.56181164  0.68050183]\n",
            " [ 0.69569502 -0.76865588]\n",
            " ...\n",
            " [ 0.09604481  0.48047534]\n",
            " [-1.73817934  0.87636887]\n",
            " [ 0.1665919   0.75335815]]\n"
          ]
        }
      ]
    },
    {
      "cell_type": "code",
      "source": [
        "print(x_test)"
      ],
      "metadata": {
        "colab": {
          "base_uri": "https://localhost:8080/"
        },
        "id": "LFCFXn9m8LG1",
        "outputId": "d0b87fed-d202-4be1-d7fa-250cc93ab908"
      },
      "execution_count": 56,
      "outputs": [
        {
          "output_type": "stream",
          "name": "stdout",
          "text": [
            "[[ 0.55460085  0.18876547]\n",
            " [ 1.68335418  0.67750264]\n",
            " [ 1.22479814  0.49253779]\n",
            " [-1.45599101  0.18637925]\n",
            " [-1.5265381   0.25601745]\n",
            " [-0.39778477  1.09161025]\n",
            " [-0.36251123  0.90412782]\n",
            " [-0.32723768  1.32845896]\n",
            " [ 0.51932731 -1.23153869]\n",
            " [ 0.09604481 -1.99799679]\n",
            " [-0.89161435 -0.55052476]\n",
            " [-1.2796233   1.38496201]\n",
            " [ 1.40116585 -1.01286028]\n",
            " [-0.60942602 -0.29042683]\n",
            " [-0.78579372 -0.24773758]\n",
            " [ 0.55460085 -0.85276464]\n",
            " [ 0.51932731  0.99631471]\n",
            " [-1.03270851  0.82115744]\n",
            " [-0.78579372  0.09132452]\n",
            " [ 0.23713898 -0.53347095]\n",
            " [ 0.09604481  1.15527196]\n",
            " [ 0.51932731  0.53581812]\n",
            " [-1.35017039  1.20363122]\n",
            " [-0.75052018 -0.92474529]\n",
            " [-0.29196414 -0.37107667]\n",
            " [ 0.80151564  1.41876314]\n",
            " [-1.49126455  0.49785752]\n",
            " [ 1.47171293 -1.30330041]\n",
            " [-0.04504935  1.37574551]\n",
            " [ 1.43643939  1.02921827]\n",
            " [ 0.37823315  1.722426  ]\n",
            " [ 0.55460085 -0.45649895]\n",
            " [ 0.94260981  0.46565451]\n",
            " [ 1.04843044 -0.33773527]\n",
            " [-1.45599101 -0.13821229]\n",
            " [-0.64469956  1.03357476]\n",
            " [-0.57415247 -0.59170347]\n",
            " [-0.43305831 -2.08556449]\n",
            " [ 0.1665919   0.72759136]\n",
            " [ 0.55460085 -1.19712459]\n",
            " [-0.50360539 -0.72826528]\n",
            " [-1.1032556  -0.73104555]\n",
            " [-1.63235872  1.22506341]\n",
            " [-1.03270851 -0.48745413]\n",
            " [-0.32723768  1.59713853]\n",
            " [ 0.13131836  0.63137636]\n",
            " [ 1.75390127 -1.04867546]\n",
            " [ 1.54226002 -2.01988872]\n",
            " [-1.13852914  0.31096618]\n",
            " [ 0.27241252 -0.81922622]\n",
            " [ 1.08370398 -0.93971936]\n",
            " [-0.2566906  -1.26698171]\n",
            " [-0.15086998 -0.96907643]\n",
            " [ 1.1895246   0.52544135]\n",
            " [ 0.66042148 -1.38502296]\n",
            " [ 0.66042148 -0.87128521]\n",
            " [-0.75052018 -0.68518198]\n",
            " [-1.24434976  0.63137636]\n",
            " [ 0.20186544 -0.25927462]\n",
            " [-0.04504935 -0.88492388]\n",
            " [-1.56181164  1.24441587]\n",
            " [-1.49126455  1.29334432]\n",
            " [-0.6799731   0.62373608]\n",
            " [ 1.68335418  0.81496202]\n",
            " [-0.78579372 -0.88150874]\n",
            " [-1.73817934  0.79801767]\n",
            " [ 1.43643939 -0.47285222]\n",
            " [ 0.66042148  1.30674217]\n",
            " [-1.63235872 -1.01671325]\n",
            " [-0.92688789  1.54324061]\n",
            " [-1.17380268 -2.23880794]\n",
            " [ 1.26007168 -0.62200189]\n",
            " [-1.06798206  0.87820779]\n",
            " [-1.1032556  -1.25778711]\n",
            " [-1.73817934  1.36773307]\n",
            " [-0.36251123 -1.0580671 ]\n",
            " [-0.71524664 -0.42177836]\n",
            " [-0.11559643 -2.1950241 ]\n",
            " [-0.60942602  1.54199277]\n",
            " [-0.53887893  1.31541138]\n",
            " [ 1.15425106  0.07683207]\n",
            " [ 0.1665919  -0.72826528]\n",
            " [-1.49126455  0.54652327]\n",
            " [-1.06798206  1.71264031]\n",
            " [-1.42071747  0.28149965]\n",
            " [-0.60942602 -1.75718565]\n",
            " [-0.99743497  1.10327864]\n",
            " [ 0.48405377 -1.40691488]\n",
            " [ 0.5898744   0.30118049]\n",
            " [-0.39778477  0.81596905]\n",
            " [ 0.34295961 -0.94718451]\n",
            " [-0.60942602 -0.22715917]\n",
            " [-0.53887893 -1.31934719]\n",
            " [ 0.20186544  0.25785638]\n",
            " [ 0.20186544  0.82332474]\n",
            " [ 1.43643939 -0.01436968]\n",
            " [ 0.97788335  0.89140862]\n",
            " [ 0.27241252 -1.29745527]\n",
            " [ 1.22479814 -1.19217701]\n",
            " [-0.43305831 -0.70637336]\n",
            " [-1.73817934  1.1833593 ]\n",
            " [ 0.80151564  0.90060322]\n",
            " [ 1.47171293 -0.86125871]\n",
            " [-0.2566906   0.90371188]\n",
            " [-0.6799731  -1.07853604]\n",
            " [ 1.54226002 -0.50514281]\n",
            " [ 0.09604481 -0.24092919]\n",
            " [-1.17380268 -0.96517967]\n",
            " [ 1.6128071  -0.96410696]\n",
            " [-1.20907622 -0.65956843]\n",
            " [-1.03270851  0.87255967]\n",
            " [-0.92688789 -0.77290291]\n",
            " [-1.1032556   0.39391467]\n",
            " [ 1.54226002  1.19861797]\n",
            " [ 1.43643939  1.56841633]\n",
            " [ 0.5898744   1.47465322]\n",
            " [ 1.68335418 -0.79120456]\n",
            " [-0.32723768 -0.2685349 ]\n",
            " [-1.2796233   1.0001239 ]\n",
            " [-0.6799731  -0.29042683]\n",
            " [ 1.54226002 -0.82367028]\n",
            " [-0.50360539 -1.75718565]\n",
            " [-1.5265381  -0.22407241]\n",
            " [-0.71524664 -1.34123912]\n",
            " [-0.89161435 -1.30487663]\n",
            " [ 0.69569502  0.7150254 ]\n",
            " [ 0.48405377  0.21210226]\n",
            " [-0.36251123 -0.23747027]\n",
            " [ 0.51932731 -0.8748317 ]\n",
            " [-1.17380268 -1.12135664]\n",
            " [-1.66763226  0.25025988]\n",
            " [-0.75052018 -1.86664526]\n",
            " [ 1.50698648 -0.61880567]\n",
            " [-0.11559643 -0.99096835]\n",
            " [-1.06798206  0.51178079]\n",
            " [ 0.94260981  0.98652902]\n",
            " [ 0.37823315  1.62086937]\n",
            " [-0.85634081 -0.50794497]\n",
            " [-0.85634081 -1.30402285]\n",
            " [ 1.01315689 -2.37015948]\n",
            " [-1.7029058   1.19189715]\n",
            " [-1.06798206 -1.16135319]\n",
            " [ 1.68335418  0.31665808]\n",
            " [ 1.47171293  1.54356899]\n",
            " [-0.04504935 -1.75718565]\n",
            " [-0.57415247  0.393849  ]\n",
            " [-0.15086998  1.57513715]\n",
            " [ 0.06077127 -0.59691374]\n",
            " [-1.7029058  -0.47709925]\n",
            " [ 0.69569502  1.25755102]\n",
            " [-1.73817934 -0.93052475]\n",
            " [-0.32723768 -1.23985762]\n",
            " [ 1.26007168  0.44825043]\n",
            " [-0.15086998  0.60221632]\n",
            " [ 0.37823315 -1.58205026]\n",
            " [ 0.44878023 -0.40496537]\n",
            " [-0.11559643 -1.84475334]\n",
            " [-1.7029058  -0.78260103]\n",
            " [ 0.13131836 -0.53636069]\n",
            " [-1.31489685  0.82673988]\n",
            " [ 0.97788335  0.30054562]\n",
            " [-0.50360539  0.75281085]\n",
            " [ 1.26007168 -0.94254342]\n",
            " [-0.2566906  -0.35951774]\n",
            " [-1.35017039  0.90848432]\n",
            " [-1.13852914  0.11376374]\n",
            " [-0.53887893 -0.38092804]\n",
            " [ 1.71862772 -0.51033119]\n",
            " [ 1.11897752  0.81717311]\n",
            " [-0.18614352 -0.82108703]\n",
            " [-1.03270851  0.19014466]\n",
            " [ 0.06077127 -1.16597238]\n",
            " [-0.92688789 -2.17313218]\n",
            " [-0.75052018 -1.47259065]\n",
            " [ 1.01315689 -1.12295475]\n",
            " [-0.71524664  0.48864102]\n",
            " [ 0.30768606 -0.79680889]\n",
            " [-0.96216143 -0.07279922]\n",
            " [-1.59708518  1.29461405]\n",
            " [-0.99743497 -1.56015834]\n",
            " [-1.03270851  0.29741508]\n",
            " [-1.7029058  -0.23725135]\n",
            " [-0.04504935  0.44636772]\n",
            " [ 1.01315689 -2.37015948]\n",
            " [-1.17380268 -0.22608647]\n",
            " [ 0.83678919 -0.38267939]\n",
            " [ 0.66042148 -0.5303623 ]\n",
            " [ 1.50698648 -0.72152257]\n",
            " [-1.20907622 -0.37799452]\n",
            " [ 0.66042148  1.35249629]\n",
            " [-1.31489685 -1.04933222]\n",
            " [-0.2566906  -1.12332692]\n",
            " [-1.73817934 -1.17982997]\n",
            " [-0.32723768  1.62119775]\n",
            " [-1.63235872  0.71885648]\n",
            " [-0.18614352  0.43399879]\n",
            " [ 0.44878023  0.84350909]\n",
            " [ 1.04843044  0.70696917]\n",
            " [-1.63235872  1.69204001]\n",
            " [-0.6799731   1.353569  ]\n",
            " [-0.85634081 -0.10064575]\n",
            " [-0.64469956  0.50343996]\n",
            " [-0.89161435 -0.72338338]\n",
            " [ 0.09604481  1.7037303 ]\n",
            " [-0.92688789  0.36569599]\n",
            " [ 1.08370398 -0.09977007]\n",
            " [ 1.33061877  0.84105719]\n",
            " [ 1.57753356 -0.54936449]\n",
            " [-0.04504935  0.26199395]\n",
            " [ 0.09604481 -0.54513935]\n",
            " [ 0.83678919 -0.68448144]\n",
            " [-1.17380268  0.31895673]\n",
            " [ 0.23713898 -0.30001549]\n",
            " [ 1.75390127  0.24697609]\n",
            " [-0.36251123 -0.59691374]\n",
            " [-0.6799731   0.71754297]\n",
            " [ 0.62514794  0.15503001]\n",
            " [-0.82106726 -1.86664526]\n",
            " [-0.39778477 -0.76979426]\n",
            " [-0.64469956  1.71150193]\n",
            " [ 0.1665919   1.64392157]\n",
            " [ 1.36589231  0.22615687]\n",
            " [ 0.37823315  0.8483691 ]\n",
            " [-0.08032289 -0.14081743]\n",
            " [ 0.06077127  0.66003289]\n",
            " [ 1.6128071   0.56786789]\n",
            " [-1.35017039  1.52717194]\n",
            " [ 0.80151564 -0.63244434]\n",
            " [-1.56181164 -0.91559446]\n",
            " [ 1.43643939 -1.06750251]\n",
            " [-1.63235872  1.0351072 ]\n",
            " [-0.00977581 -0.44367029]\n",
            " [ 1.50698648  1.32506571]\n",
            " [-0.78579372 -0.81473838]\n",
            " [ 1.57753356  0.44341231]\n",
            " [ 1.40116585  0.25045691]\n",
            " [-0.29196414 -0.90931148]\n",
            " [-0.85634081 -0.22553917]\n",
            " [-0.43305831  0.82814096]\n",
            " [ 1.64808064 -0.95158478]\n",
            " [-0.75052018 -1.07446415]\n",
            " [ 1.47171293 -0.29307575]\n",
            " [ 1.68335418 -0.98413807]\n",
            " [-1.56181164 -0.60339375]\n",
            " [ 1.57753356 -0.46376707]\n",
            " [ 1.11897752 -1.32376936]\n",
            " [ 1.22479814 -1.26461739]\n",
            " [ 1.1895246   0.44457258]\n",
            " [ 0.09604481  0.42265877]\n",
            " [-0.6799731  -1.82286141]]\n"
          ]
        }
      ]
    },
    {
      "cell_type": "code",
      "source": [
        "from sklearn.naive_bayes import GaussianNB\n",
        "classifier = GaussianNB()\n",
        "classifier.fit(x_train, y_train)"
      ],
      "metadata": {
        "colab": {
          "base_uri": "https://localhost:8080/",
          "height": 74
        },
        "id": "l0bduwxF4fvR",
        "outputId": "8d3f225a-e075-46ca-ebf6-3fca1b29ec06"
      },
      "execution_count": 57,
      "outputs": [
        {
          "output_type": "execute_result",
          "data": {
            "text/plain": [
              "GaussianNB()"
            ],
            "text/html": [
              "<style>#sk-container-id-6 {color: black;background-color: white;}#sk-container-id-6 pre{padding: 0;}#sk-container-id-6 div.sk-toggleable {background-color: white;}#sk-container-id-6 label.sk-toggleable__label {cursor: pointer;display: block;width: 100%;margin-bottom: 0;padding: 0.3em;box-sizing: border-box;text-align: center;}#sk-container-id-6 label.sk-toggleable__label-arrow:before {content: \"▸\";float: left;margin-right: 0.25em;color: #696969;}#sk-container-id-6 label.sk-toggleable__label-arrow:hover:before {color: black;}#sk-container-id-6 div.sk-estimator:hover label.sk-toggleable__label-arrow:before {color: black;}#sk-container-id-6 div.sk-toggleable__content {max-height: 0;max-width: 0;overflow: hidden;text-align: left;background-color: #f0f8ff;}#sk-container-id-6 div.sk-toggleable__content pre {margin: 0.2em;color: black;border-radius: 0.25em;background-color: #f0f8ff;}#sk-container-id-6 input.sk-toggleable__control:checked~div.sk-toggleable__content {max-height: 200px;max-width: 100%;overflow: auto;}#sk-container-id-6 input.sk-toggleable__control:checked~label.sk-toggleable__label-arrow:before {content: \"▾\";}#sk-container-id-6 div.sk-estimator input.sk-toggleable__control:checked~label.sk-toggleable__label {background-color: #d4ebff;}#sk-container-id-6 div.sk-label input.sk-toggleable__control:checked~label.sk-toggleable__label {background-color: #d4ebff;}#sk-container-id-6 input.sk-hidden--visually {border: 0;clip: rect(1px 1px 1px 1px);clip: rect(1px, 1px, 1px, 1px);height: 1px;margin: -1px;overflow: hidden;padding: 0;position: absolute;width: 1px;}#sk-container-id-6 div.sk-estimator {font-family: monospace;background-color: #f0f8ff;border: 1px dotted black;border-radius: 0.25em;box-sizing: border-box;margin-bottom: 0.5em;}#sk-container-id-6 div.sk-estimator:hover {background-color: #d4ebff;}#sk-container-id-6 div.sk-parallel-item::after {content: \"\";width: 100%;border-bottom: 1px solid gray;flex-grow: 1;}#sk-container-id-6 div.sk-label:hover label.sk-toggleable__label {background-color: #d4ebff;}#sk-container-id-6 div.sk-serial::before {content: \"\";position: absolute;border-left: 1px solid gray;box-sizing: border-box;top: 0;bottom: 0;left: 50%;z-index: 0;}#sk-container-id-6 div.sk-serial {display: flex;flex-direction: column;align-items: center;background-color: white;padding-right: 0.2em;padding-left: 0.2em;position: relative;}#sk-container-id-6 div.sk-item {position: relative;z-index: 1;}#sk-container-id-6 div.sk-parallel {display: flex;align-items: stretch;justify-content: center;background-color: white;position: relative;}#sk-container-id-6 div.sk-item::before, #sk-container-id-6 div.sk-parallel-item::before {content: \"\";position: absolute;border-left: 1px solid gray;box-sizing: border-box;top: 0;bottom: 0;left: 50%;z-index: -1;}#sk-container-id-6 div.sk-parallel-item {display: flex;flex-direction: column;z-index: 1;position: relative;background-color: white;}#sk-container-id-6 div.sk-parallel-item:first-child::after {align-self: flex-end;width: 50%;}#sk-container-id-6 div.sk-parallel-item:last-child::after {align-self: flex-start;width: 50%;}#sk-container-id-6 div.sk-parallel-item:only-child::after {width: 0;}#sk-container-id-6 div.sk-dashed-wrapped {border: 1px dashed gray;margin: 0 0.4em 0.5em 0.4em;box-sizing: border-box;padding-bottom: 0.4em;background-color: white;}#sk-container-id-6 div.sk-label label {font-family: monospace;font-weight: bold;display: inline-block;line-height: 1.2em;}#sk-container-id-6 div.sk-label-container {text-align: center;}#sk-container-id-6 div.sk-container {/* jupyter's `normalize.less` sets `[hidden] { display: none; }` but bootstrap.min.css set `[hidden] { display: none !important; }` so we also need the `!important` here to be able to override the default hidden behavior on the sphinx rendered scikit-learn.org. See: https://github.com/scikit-learn/scikit-learn/issues/21755 */display: inline-block !important;position: relative;}#sk-container-id-6 div.sk-text-repr-fallback {display: none;}</style><div id=\"sk-container-id-6\" class=\"sk-top-container\"><div class=\"sk-text-repr-fallback\"><pre>GaussianNB()</pre><b>In a Jupyter environment, please rerun this cell to show the HTML representation or trust the notebook. <br />On GitHub, the HTML representation is unable to render, please try loading this page with nbviewer.org.</b></div><div class=\"sk-container\" hidden><div class=\"sk-item\"><div class=\"sk-estimator sk-toggleable\"><input class=\"sk-toggleable__control sk-hidden--visually\" id=\"sk-estimator-id-6\" type=\"checkbox\" checked><label for=\"sk-estimator-id-6\" class=\"sk-toggleable__label sk-toggleable__label-arrow\">GaussianNB</label><div class=\"sk-toggleable__content\"><pre>GaussianNB()</pre></div></div></div></div></div>"
            ]
          },
          "metadata": {},
          "execution_count": 57
        }
      ]
    },
    {
      "cell_type": "code",
      "source": [
        "y_pred = classifier.predict(x_test)"
      ],
      "metadata": {
        "id": "5ehGaUCE4kZO"
      },
      "execution_count": 58,
      "outputs": []
    },
    {
      "cell_type": "code",
      "source": [
        "from sklearn.metrics import confusion_matrix\n",
        "cm = confusion_matrix(y_test, y_pred)\n",
        "print(cm)"
      ],
      "metadata": {
        "colab": {
          "base_uri": "https://localhost:8080/"
        },
        "id": "MyBj1oI-4nKe",
        "outputId": "c5529e61-913b-4f69-bbe9-1e7fa2d8d67a"
      },
      "execution_count": 59,
      "outputs": [
        {
          "output_type": "stream",
          "name": "stdout",
          "text": [
            "[[  0  50]\n",
            " [  0 200]]\n"
          ]
        }
      ]
    },
    {
      "cell_type": "code",
      "source": [
        "from matplotlib.colors import ListedColormap\n",
        "x_set, y_set = x_train, y_train\n",
        "x1, x2 = np.meshgrid(np.arange(start = x_set[:, 0].min() - 1, stop = x_set[:, 0].max() + 1, step = 0.01),\n",
        "                     np.arange(start = x_set[:, 1].min() - 1, stop = x_set[:, 1].max() + 1, step = 0.01))\n",
        "plt.contourf(x1, x2, classifier.predict(np.array([x1.ravel(), x2.ravel()]).T).reshape(x1.shape),\n",
        "             alpha = 0.75, cmap = ListedColormap(('yellow', 'blue')))\n",
        "plt.xlim(x1.min(), x1.max())\n",
        "plt.ylim(x2.min(), x2.max())\n",
        "for i, j in enumerate(np.unique(y_set)):\n",
        "    plt.scatter(x_set[y_set == j, 0], x_set[y_set == j, 1],\n",
        "                c = ListedColormap(('yellow', 'blue'))(i), label = j)\n",
        "plt.title('Naive Bayes (Training set)')\n",
        "plt.xlabel('Age')\n",
        "plt.ylabel('Estimated Salary')\n",
        "plt.legend()\n",
        "plt.show()"
      ],
      "metadata": {
        "colab": {
          "base_uri": "https://localhost:8080/",
          "height": 527
        },
        "id": "7C698UWA4p78",
        "outputId": "de8036e8-a6a6-4e43-867c-9f7ae7c57126"
      },
      "execution_count": 63,
      "outputs": [
        {
          "output_type": "stream",
          "name": "stderr",
          "text": [
            "<ipython-input-63-a573ea4607e9>:10: UserWarning: *c* argument looks like a single numeric RGB or RGBA sequence, which should be avoided as value-mapping will have precedence in case its length matches with *x* & *y*.  Please use the *color* keyword-argument or provide a 2D array with a single row if you intend to specify the same RGB or RGBA value for all points.\n",
            "  plt.scatter(x_set[y_set == j, 0], x_set[y_set == j, 1],\n"
          ]
        },
        {
          "output_type": "display_data",
          "data": {
            "text/plain": [
              "<Figure size 640x480 with 1 Axes>"
            ],
            "image/png": "[encoded data removed]"
          },
          "metadata": {}
        }
      ]
    },
    {
      "cell_type": "code",
      "source": [
        "from matplotlib.colors import ListedColormap\n",
        "x_set, y_set = x_test, y_test\n",
        "x1, x2 = np.meshgrid(np.arange(start = x_set[:, 0].min() - 1, stop = x_set[:, 0].max() + 1, step = 0.01),\n",
        "                     np.arange(start = x_set[:, 1].min() - 1, stop = x_set[:, 1].max() + 1, step = 0.01))\n",
        "plt.contourf(x1, x2, classifier.predict(np.array([x1.ravel(), x2.ravel()]).T).reshape(x1.shape),\n",
        "             alpha = 0.75, cmap = ListedColormap(('yellow', 'blue')))\n",
        "plt.xlim(x1.min(), x1.max())\n",
        "plt.ylim(x2.min(), x2.max())\n",
        "for i, j in enumerate(np.unique(y_set)):\n",
        "    plt.scatter(x_set[y_set == j, 0], x_set[y_set == j, 1],\n",
        "                c = ListedColormap(('yellow', 'blue'))(i), label = j)\n",
        "plt.title('Naive Bayes (Test set)')\n",
        "plt.xlabel('Age')\n",
        "plt.ylabel('Estimated Salary')\n",
        "plt.legend()\n",
        "plt.show()"
      ],
      "metadata": {
        "colab": {
          "base_uri": "https://localhost:8080/",
          "height": 527
        },
        "id": "TuU8nUQs4tMY",
        "outputId": "a1109d46-2fa0-4434-ed6a-003ec0d29ec6"
      },
      "execution_count": 64,
      "outputs": [
        {
          "output_type": "stream",
          "name": "stderr",
          "text": [
            "<ipython-input-64-9ebc90f8086a>:10: UserWarning: *c* argument looks like a single numeric RGB or RGBA sequence, which should be avoided as value-mapping will have precedence in case its length matches with *x* & *y*.  Please use the *color* keyword-argument or provide a 2D array with a single row if you intend to specify the same RGB or RGBA value for all points.\n",
            "  plt.scatter(x_set[y_set == j, 0], x_set[y_set == j, 1],\n"
          ]
        },
        {
          "output_type": "display_data",
          "data": {
            "text/plain": [
              "<Figure size 640x480 with 1 Axes>"
            ],
            "image/png": "[encoded data removed]"
          },
          "metadata": {}
        }
      ]
    }
  ]
}