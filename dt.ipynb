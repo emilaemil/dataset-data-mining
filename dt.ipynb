{
  "nbformat": 4,
  "nbformat_minor": 0,
  "metadata": {
    "colab": {
      "provenance": [],
      "authorship_tag": "ABX9TyNLWKPctGT/oEQRGrXus00V",
      "include_colab_link": true
    },
    "kernelspec": {
      "name": "python3",
      "display_name": "Python 3"
    },
    "language_info": {
      "name": "python"
    }
  },
  "cells": [
    {
      "cell_type": "markdown",
      "metadata": {
        "id": "view-in-github",
        "colab_type": "text"
      },
      "source": [
        "<a href=\"https://colab.research.google.com/github/emilaemil/dataset-data-mining/blob/main/dt.ipynb\" target=\"_parent\"><img src=\"https://colab.research.google.com/assets/colab-badge.svg\" alt=\"Open In Colab\"/></a>"
      ]
    },
    {
      "cell_type": "code",
      "execution_count": 11,
      "metadata": {
        "id": "m9v_yrhCUqbI"
      },
      "outputs": [],
      "source": [
        "#Import library numpy, pandas dan scikit-learn\n",
        "import numpy as np\n",
        "import pandas as pd\n",
        "from sklearn import tree"
      ]
    },
    {
      "cell_type": "code",
      "source": [
        "#Membaca Dataset dari File ke Pandas dataFrame\n",
        "dt = pd.read_csv('liver-disorders-dataset.csv')"
      ],
      "metadata": {
        "id": "K8MgBceXVKUA"
      },
      "execution_count": 12,
      "outputs": []
    },
    {
      "cell_type": "code",
      "source": [
        "dt.head()"
      ],
      "metadata": {
        "colab": {
          "base_uri": "https://localhost:8080/",
          "height": 206
        },
        "id": "E4HWZbdSVX3i",
        "outputId": "4db5ed11-cdee-4293-8939-44f77969c254"
      },
      "execution_count": 13,
      "outputs": [
        {
          "output_type": "execute_result",
          "data": {
            "text/plain": [
              "   id  'mcv'  'alkphos'  'sgpt'  'sgot'  'gammagt'  'drinks'  'selector'\n",
              "0   1     85         92      45      27         31       0.0           1\n",
              "1   2     85         64      59      32         23       0.0           2\n",
              "2   3     86         54      33      16         54       0.0           2\n",
              "3   4     91         78      34      24         36       0.0           2\n",
              "4   5     87         70      12      28         10       0.0           2"
            ],
            "text/html": [
              "\n",
              "  <div id=\"df-fc7b5132-1caf-4b06-887c-575d7d0311cd\">\n",
              "    <div class=\"colab-df-container\">\n",
              "      <div>\n",
              "<style scoped>\n",
              "    .dataframe tbody tr th:only-of-type {\n",
              "        vertical-align: middle;\n",
              "    }\n",
              "\n",
              "    .dataframe tbody tr th {\n",
              "        vertical-align: top;\n",
              "    }\n",
              "\n",
              "    .dataframe thead th {\n",
              "        text-align: right;\n",
              "    }\n",
              "</style>\n",
              "<table border=\"1\" class=\"dataframe\">\n",
              "  <thead>\n",
              "    <tr style=\"text-align: right;\">\n",
              "      <th></th>\n",
              "      <th>id</th>\n",
              "      <th>'mcv'</th>\n",
              "      <th>'alkphos'</th>\n",
              "      <th>'sgpt'</th>\n",
              "      <th>'sgot'</th>\n",
              "      <th>'gammagt'</th>\n",
              "      <th>'drinks'</th>\n",
              "      <th>'selector'</th>\n",
              "    </tr>\n",
              "  </thead>\n",
              "  <tbody>\n",
              "    <tr>\n",
              "      <th>0</th>\n",
              "      <td>1</td>\n",
              "      <td>85</td>\n",
              "      <td>92</td>\n",
              "      <td>45</td>\n",
              "      <td>27</td>\n",
              "      <td>31</td>\n",
              "      <td>0.0</td>\n",
              "      <td>1</td>\n",
              "    </tr>\n",
              "    <tr>\n",
              "      <th>1</th>\n",
              "      <td>2</td>\n",
              "      <td>85</td>\n",
              "      <td>64</td>\n",
              "      <td>59</td>\n",
              "      <td>32</td>\n",
              "      <td>23</td>\n",
              "      <td>0.0</td>\n",
              "      <td>2</td>\n",
              "    </tr>\n",
              "    <tr>\n",
              "      <th>2</th>\n",
              "      <td>3</td>\n",
              "      <td>86</td>\n",
              "      <td>54</td>\n",
              "      <td>33</td>\n",
              "      <td>16</td>\n",
              "      <td>54</td>\n",
              "      <td>0.0</td>\n",
              "      <td>2</td>\n",
              "    </tr>\n",
              "    <tr>\n",
              "      <th>3</th>\n",
              "      <td>4</td>\n",
              "      <td>91</td>\n",
              "      <td>78</td>\n",
              "      <td>34</td>\n",
              "      <td>24</td>\n",
              "      <td>36</td>\n",
              "      <td>0.0</td>\n",
              "      <td>2</td>\n",
              "    </tr>\n",
              "    <tr>\n",
              "      <th>4</th>\n",
              "      <td>5</td>\n",
              "      <td>87</td>\n",
              "      <td>70</td>\n",
              "      <td>12</td>\n",
              "      <td>28</td>\n",
              "      <td>10</td>\n",
              "      <td>0.0</td>\n",
              "      <td>2</td>\n",
              "    </tr>\n",
              "  </tbody>\n",
              "</table>\n",
              "</div>\n",
              "      <button class=\"colab-df-convert\" onclick=\"convertToInteractive('df-fc7b5132-1caf-4b06-887c-575d7d0311cd')\"\n",
              "              title=\"Convert this dataframe to an interactive table.\"\n",
              "              style=\"display:none;\">\n",
              "        \n",
              "  <svg xmlns=\"http://www.w3.org/2000/svg\" height=\"24px\"viewBox=\"0 0 24 24\"\n",
              "       width=\"24px\">\n",
              "    <path d=\"M0 0h24v24H0V0z\" fill=\"none\"/>\n",
              "    <path d=\"M18.56 5.44l.94 2.06.94-2.06 2.06-.94-2.06-.94-.94-2.06-.94 2.06-2.06.94zm-11 1L8.5 8.5l.94-2.06 2.06-.94-2.06-.94L8.5 2.5l-.94 2.06-2.06.94zm10 10l.94 2.06.94-2.06 2.06-.94-2.06-.94-.94-2.06-.94 2.06-2.06.94z\"/><path d=\"M17.41 7.96l-1.37-1.37c-.4-.4-.92-.59-1.43-.59-.52 0-1.04.2-1.43.59L10.3 9.45l-7.72 7.72c-.78.78-.78 2.05 0 2.83L4 21.41c.39.39.9.59 1.41.59.51 0 1.02-.2 1.41-.59l7.78-7.78 2.81-2.81c.8-.78.8-2.07 0-2.86zM5.41 20L4 18.59l7.72-7.72 1.47 1.35L5.41 20z\"/>\n",
              "  </svg>\n",
              "      </button>\n",
              "      \n",
              "  <style>\n",
              "    .colab-df-container {\n",
              "      display:flex;\n",
              "      flex-wrap:wrap;\n",
              "      gap: 12px;\n",
              "    }\n",
              "\n",
              "    .colab-df-convert {\n",
              "      background-color: #E8F0FE;\n",
              "      border: none;\n",
              "      border-radius: 50%;\n",
              "      cursor: pointer;\n",
              "      display: none;\n",
              "      fill: #1967D2;\n",
              "      height: 32px;\n",
              "      padding: 0 0 0 0;\n",
              "      width: 32px;\n",
              "    }\n",
              "\n",
              "    .colab-df-convert:hover {\n",
              "      background-color: #E2EBFA;\n",
              "      box-shadow: 0px 1px 2px rgba(60, 64, 67, 0.3), 0px 1px 3px 1px rgba(60, 64, 67, 0.15);\n",
              "      fill: #174EA6;\n",
              "    }\n",
              "\n",
              "    [theme=dark] .colab-df-convert {\n",
              "      background-color: #3B4455;\n",
              "      fill: #D2E3FC;\n",
              "    }\n",
              "\n",
              "    [theme=dark] .colab-df-convert:hover {\n",
              "      background-color: #434B5C;\n",
              "      box-shadow: 0px 1px 3px 1px rgba(0, 0, 0, 0.15);\n",
              "      filter: drop-shadow(0px 1px 2px rgba(0, 0, 0, 0.3));\n",
              "      fill: #FFFFFF;\n",
              "    }\n",
              "  </style>\n",
              "\n",
              "      <script>\n",
              "        const buttonEl =\n",
              "          document.querySelector('#df-fc7b5132-1caf-4b06-887c-575d7d0311cd button.colab-df-convert');\n",
              "        buttonEl.style.display =\n",
              "          google.colab.kernel.accessAllowed ? 'block' : 'none';\n",
              "\n",
              "        async function convertToInteractive(key) {\n",
              "          const element = document.querySelector('#df-fc7b5132-1caf-4b06-887c-575d7d0311cd');\n",
              "          const dataTable =\n",
              "            await google.colab.kernel.invokeFunction('convertToInteractive',\n",
              "                                                     [key], {});\n",
              "          if (!dataTable) return;\n",
              "\n",
              "          const docLinkHtml = 'Like what you see? Visit the ' +\n",
              "            '<a target=\"_blank\" href=https://colab.research.google.com/notebooks/data_table.ipynb>data table notebook</a>'\n",
              "            + ' to learn more about interactive tables.';\n",
              "          element.innerHTML = '';\n",
              "          dataTable['output_type'] = 'display_data';\n",
              "          await google.colab.output.renderOutput(dataTable, element);\n",
              "          const docLink = document.createElement('div');\n",
              "          docLink.innerHTML = docLinkHtml;\n",
              "          element.appendChild(docLink);\n",
              "        }\n",
              "      </script>\n",
              "    </div>\n",
              "  </div>\n",
              "  "
            ]
          },
          "metadata": {},
          "execution_count": 13
        }
      ]
    },
    {
      "cell_type": "code",
      "source": [
        "#Menghapus kolom \"Id\"\n",
        "dt = dt.drop(labels=\"id\", axis=1)"
      ],
      "metadata": {
        "id": "RHj5OKY9Vbp0"
      },
      "execution_count": 14,
      "outputs": []
    },
    {
      "cell_type": "code",
      "source": [
        "print(dt)"
      ],
      "metadata": {
        "colab": {
          "base_uri": "https://localhost:8080/"
        },
        "id": "jdJhwh_EVj4K",
        "outputId": "c3c5ddda-5810-4c9f-8921-a67870f3446d"
      },
      "execution_count": 15,
      "outputs": [
        {
          "output_type": "stream",
          "name": "stdout",
          "text": [
            "     'mcv'  'alkphos'  'sgpt'  'sgot'  'gammagt'  'drinks'  'selector'\n",
            "0       85         92      45      27         31       0.0           1\n",
            "1       85         64      59      32         23       0.0           2\n",
            "2       86         54      33      16         54       0.0           2\n",
            "3       91         78      34      24         36       0.0           2\n",
            "4       87         70      12      28         10       0.0           2\n",
            "..     ...        ...     ...     ...        ...       ...         ...\n",
            "145     90         76      37      19         50       6.0           1\n",
            "146     96         70      70      26         36       6.0           1\n",
            "147     95         62      64      42         76       6.0           1\n",
            "148     92         62      20      23         20       6.0           1\n",
            "149     91         63      25      26         15       6.0           1\n",
            "\n",
            "[150 rows x 7 columns]\n"
          ]
        }
      ]
    },
    {
      "cell_type": "code",
      "source": [
        "#Mengubah dataFrame ke array Numpy\n",
        "dt = dt.to_numpy()"
      ],
      "metadata": {
        "id": "kzuclmKlVnBh"
      },
      "execution_count": 16,
      "outputs": []
    },
    {
      "cell_type": "code",
      "source": [
        "print(dt)"
      ],
      "metadata": {
        "colab": {
          "base_uri": "https://localhost:8080/"
        },
        "id": "FaYzExkwVzg0",
        "outputId": "5c38c55f-fcb0-42e6-f3ba-d3251e9f0425"
      },
      "execution_count": 17,
      "outputs": [
        {
          "output_type": "stream",
          "name": "stdout",
          "text": [
            "[[85. 92. 45. ... 31.  0.  1.]\n",
            " [85. 64. 59. ... 23.  0.  2.]\n",
            " [86. 54. 33. ... 54.  0.  2.]\n",
            " ...\n",
            " [95. 62. 64. ... 76.  6.  1.]\n",
            " [92. 62. 20. ... 20.  6.  1.]\n",
            " [91. 63. 25. ... 15.  6.  1.]]\n"
          ]
        }
      ]
    },
    {
      "cell_type": "code",
      "source": [
        "#Membagi Dataset => 120 baris data untuk training dan 30 baris data untuk testing\n",
        "dataTraining = np.concatenate((dt[0:60, :], dt[75:135, :]), \n",
        "                              axis=0)\n",
        "dataTesting = np.concatenate((dt[60:75, :], dt[135:150, :]), \n",
        "                             axis=0)"
      ],
      "metadata": {
        "id": "FAZWRvgUV3ny"
      },
      "execution_count": 18,
      "outputs": []
    },
    {
      "cell_type": "code",
      "source": [
        "print(dataTraining)\n",
        "len(dataTraining)"
      ],
      "metadata": {
        "colab": {
          "base_uri": "https://localhost:8080/"
        },
        "id": "tTmC2R6BXV3Z",
        "outputId": "93965c4e-2eed-4cd7-d695-59fa148e7ba0"
      },
      "execution_count": 55,
      "outputs": [
        {
          "output_type": "stream",
          "name": "stdout",
          "text": [
            "[[ 85.   92.   45.   27.   31.    0.    1. ]\n",
            " [ 85.   64.   59.   32.   23.    0.    2. ]\n",
            " [ 86.   54.   33.   16.   54.    0.    2. ]\n",
            " [ 91.   78.   34.   24.   36.    0.    2. ]\n",
            " [ 87.   70.   12.   28.   10.    0.    2. ]\n",
            " [ 98.   55.   13.   17.   17.    0.    2. ]\n",
            " [ 88.   62.   20.   17.    9.    0.5   1. ]\n",
            " [ 88.   67.   21.   11.   11.    0.5   1. ]\n",
            " [ 92.   54.   22.   20.    7.    0.5   1. ]\n",
            " [ 90.   60.   25.   19.    5.    0.5   1. ]\n",
            " [ 89.   52.   13.   24.   15.    0.5   1. ]\n",
            " [ 82.   62.   17.   17.   15.    0.5   1. ]\n",
            " [ 90.   64.   61.   32.   13.    0.5   1. ]\n",
            " [ 86.   77.   25.   19.   18.    0.5   1. ]\n",
            " [ 96.   67.   29.   20.   11.    0.5   1. ]\n",
            " [ 91.   78.   20.   31.   18.    0.5   1. ]\n",
            " [ 89.   67.   23.   16.   10.    0.5   1. ]\n",
            " [ 89.   79.   17.   17.   16.    0.5   1. ]\n",
            " [ 91.  107.   20.   20.   56.    0.5   1. ]\n",
            " [ 94.  116.   11.   33.   11.    0.5   1. ]\n",
            " [ 92.   59.   35.   13.   19.    0.5   1. ]\n",
            " [ 93.   23.   35.   20.   20.    0.5   1. ]\n",
            " [ 90.   60.   23.   27.    5.    0.5   1. ]\n",
            " [ 96.   68.   18.   19.   19.    0.5   1. ]\n",
            " [ 84.   80.   47.   33.   97.    0.5   1. ]\n",
            " [ 92.   70.   24.   13.   26.    0.5   1. ]\n",
            " [ 90.   47.   28.   15.   18.    0.5   1. ]\n",
            " [ 88.   66.   20.   21.   10.    0.5   1. ]\n",
            " [ 91.  102.   17.   13.   19.    0.5   1. ]\n",
            " [ 87.   41.   31.   19.   16.    0.5   1. ]\n",
            " [ 86.   79.   28.   16.   17.    0.5   1. ]\n",
            " [ 91.   57.   31.   23.   42.    0.5   1. ]\n",
            " [ 93.   77.   32.   18.   29.    0.5   1. ]\n",
            " [ 88.   96.   28.   21.   40.    0.5   1. ]\n",
            " [ 94.   65.   22.   18.   11.    0.5   1. ]\n",
            " [ 91.   72.  155.   68.   82.    0.5   2. ]\n",
            " [ 85.   54.   47.   33.   22.    0.5   2. ]\n",
            " [ 79.   39.   14.   19.    9.    0.5   2. ]\n",
            " [ 85.   85.   25.   26.   30.    0.5   2. ]\n",
            " [ 89.   63.   24.   20.   38.    0.5   2. ]\n",
            " [ 84.   92.   68.   37.   44.    0.5   2. ]\n",
            " [ 89.   68.   26.   39.   42.    0.5   2. ]\n",
            " [ 89.  101.   18.   25.   13.    0.5   2. ]\n",
            " [ 86.   84.   18.   14.   16.    0.5   2. ]\n",
            " [ 85.   65.   25.   14.   18.    0.5   2. ]\n",
            " [ 88.   61.   19.   21.   13.    0.5   2. ]\n",
            " [ 92.   56.   14.   16.   10.    0.5   2. ]\n",
            " [ 95.   50.   29.   25.   50.    0.5   2. ]\n",
            " [ 91.   75.   24.   22.   11.    0.5   2. ]\n",
            " [ 83.   40.   29.   25.   38.    0.5   2. ]\n",
            " [ 89.   74.   19.   23.   16.    0.5   2. ]\n",
            " [ 85.   64.   24.   22.   11.    0.5   2. ]\n",
            " [ 92.   57.   64.   36.   90.    0.5   2. ]\n",
            " [ 94.   48.   11.   23.   43.    0.5   2. ]\n",
            " [ 87.   52.   21.   19.   30.    0.5   2. ]\n",
            " [ 85.   65.   23.   29.   15.    0.5   2. ]\n",
            " [ 84.   82.   21.   21.   19.    0.5   2. ]\n",
            " [ 88.   49.   20.   22.   19.    0.5   2. ]\n",
            " [ 96.   67.   26.   26.   36.    0.5   2. ]\n",
            " [ 90.   63.   24.   24.   24.    0.5   2. ]\n",
            " [ 90.   80.   19.   14.   42.    2.    1. ]\n",
            " [ 87.   90.   43.   28.  156.    2.    2. ]\n",
            " [ 96.   72.   28.   19.   30.    2.    2. ]\n",
            " [ 91.   55.    9.   25.   16.    2.    2. ]\n",
            " [ 95.   78.   27.   25.   30.    2.    2. ]\n",
            " [ 92.  101.   34.   30.   64.    2.    2. ]\n",
            " [ 89.   51.   41.   22.   48.    2.    2. ]\n",
            " [ 91.   99.   42.   33.   16.    2.    2. ]\n",
            " [ 94.   58.   21.   18.   26.    2.    2. ]\n",
            " [ 92.   60.   30.   27.  297.    2.    2. ]\n",
            " [ 94.   58.   21.   18.   26.    2.    2. ]\n",
            " [ 88.   47.   33.   26.   29.    2.    2. ]\n",
            " [ 92.   65.   17.   25.    9.    2.    2. ]\n",
            " [ 92.   79.   22.   20.   11.    3.    1. ]\n",
            " [ 84.   83.   20.   25.    7.    3.    1. ]\n",
            " [ 88.   68.   27.   21.   26.    3.    1. ]\n",
            " [ 86.   48.   20.   20.    6.    3.    1. ]\n",
            " [ 99.   69.   45.   32.   30.    3.    1. ]\n",
            " [ 88.   66.   23.   12.   15.    3.    1. ]\n",
            " [ 89.   62.   42.   30.   20.    3.    1. ]\n",
            " [ 90.   51.   23.   17.   27.    3.    1. ]\n",
            " [ 81.   61.   32.   37.   53.    3.    2. ]\n",
            " [ 89.   89.   23.   18.  104.    3.    2. ]\n",
            " [ 89.   65.   26.   18.   36.    3.    2. ]\n",
            " [ 92.   75.   26.   26.   24.    3.    2. ]\n",
            " [ 85.   59.   25.   20.   25.    3.    2. ]\n",
            " [ 92.   61.   18.   13.   81.    3.    2. ]\n",
            " [ 89.   63.   22.   27.   10.    4.    1. ]\n",
            " [ 90.   84.   18.   23.   13.    4.    1. ]\n",
            " [ 88.   95.   25.   19.   14.    4.    1. ]\n",
            " [ 89.   35.   27.   29.   17.    4.    1. ]\n",
            " [ 91.   80.   37.   23.   27.    4.    1. ]\n",
            " [ 91.  109.   33.   15.   18.    4.    1. ]\n",
            " [ 91.   65.   17.    5.    7.    4.    1. ]\n",
            " [ 88.  107.   29.   20.   50.    4.    2. ]\n",
            " [ 87.   76.   22.   55.    9.    4.    2. ]\n",
            " [ 87.   86.   28.   23.   21.    4.    2. ]\n",
            " [ 87.   42.   26.   23.   17.    4.    2. ]\n",
            " [ 88.   80.   24.   25.   17.    4.    2. ]\n",
            " [ 90.   96.   34.   49.  169.    4.    2. ]\n",
            " [ 86.   67.   11.   15.    8.    4.    2. ]\n",
            " [ 92.   40.   19.   20.   21.    4.    2. ]\n",
            " [ 85.   60.   17.   21.   14.    4.    2. ]\n",
            " [ 89.   90.   15.   17.   25.    4.    2. ]\n",
            " [ 91.   57.   15.   16.   16.    4.    2. ]\n",
            " [ 96.   55.   48.   39.   42.    4.    2. ]\n",
            " [ 79.  101.   17.   27.   23.    4.    2. ]\n",
            " [ 90.  134.   14.   20.   14.    4.    2. ]\n",
            " [ 89.   76.   14.   21.   24.    4.    2. ]\n",
            " [ 88.   93.   29.   27.   31.    4.    2. ]\n",
            " [ 90.   67.   10.   16.   16.    4.    2. ]\n",
            " [ 92.   73.   24.   21.   48.    4.    2. ]\n",
            " [ 91.   55.   28.   28.   82.    4.    2. ]\n",
            " [ 83.   45.   19.   21.   13.    4.    2. ]\n",
            " [ 90.   74.   19.   14.   22.    4.    2. ]\n",
            " [ 92.   66.   21.   16.   33.    5.    1. ]\n",
            " [ 93.   63.   26.   18.   18.    5.    1. ]\n",
            " [ 86.   78.   47.   39.  107.    5.    2. ]\n",
            " [ 97.   44.  113.   45.  150.    5.    2. ]\n",
            " [ 87.   59.   15.   19.   12.    5.    2. ]]\n"
          ]
        },
        {
          "output_type": "execute_result",
          "data": {
            "text/plain": [
              "120"
            ]
          },
          "metadata": {},
          "execution_count": 55
        }
      ]
    },
    {
      "cell_type": "code",
      "source": [
        "print(dataTesting)\n",
        "len(dataTesting)"
      ],
      "metadata": {
        "colab": {
          "base_uri": "https://localhost:8080/"
        },
        "id": "C1BJg6AwXpf9",
        "outputId": "866e9d2c-c952-4956-ab98-7859fdb39f72"
      },
      "execution_count": 65,
      "outputs": [
        {
          "output_type": "stream",
          "name": "stdout",
          "text": [
            "[[ 90.   45.   33.   34.   27.    0.5   2. ]\n",
            " [ 90.   72.   14.   15.   18.    0.5   2. ]\n",
            " [ 91.   55.    4.    8.   13.    0.5   2. ]\n",
            " [ 91.   52.   15.   22.   11.    0.5   2. ]\n",
            " [ 87.   71.   32.   19.   27.    1.    1. ]\n",
            " [ 89.   77.   26.   20.   19.    1.    1. ]\n",
            " [ 89.   67.    5.   17.   14.    1.    2. ]\n",
            " [ 85.   51.   26.   24.   23.    1.    2. ]\n",
            " [103.   75.   19.   30.   13.    1.    2. ]\n",
            " [ 90.   63.   16.   21.   14.    1.    2. ]\n",
            " [ 90.   63.   29.   23.   57.    2.    1. ]\n",
            " [ 90.   67.   35.   19.   35.    2.    1. ]\n",
            " [ 87.   66.   27.   22.    9.    2.    1. ]\n",
            " [ 90.   73.   34.   21.   22.    2.    1. ]\n",
            " [ 86.   54.   20.   21.   16.    2.    1. ]\n",
            " [ 86.   44.   21.   11.   15.    5.    2. ]\n",
            " [ 87.   64.   16.   20.   24.    5.    2. ]\n",
            " [ 92.   57.   21.   23.   22.    5.    2. ]\n",
            " [ 90.   70.   25.   23.  112.    5.    2. ]\n",
            " [ 99.   59.   17.   19.   11.    5.    2. ]\n",
            " [ 92.   80.   10.   26.   20.    6.    1. ]\n",
            " [ 95.   60.   26.   22.   28.    6.    1. ]\n",
            " [ 91.   63.   25.   26.   15.    6.    1. ]\n",
            " [ 92.   62.   37.   21.   36.    6.    1. ]\n",
            " [ 95.   50.   13.   14.   15.    6.    1. ]\n",
            " [ 90.   76.   37.   19.   50.    6.    1. ]\n",
            " [ 96.   70.   70.   26.   36.    6.    1. ]\n",
            " [ 95.   62.   64.   42.   76.    6.    1. ]\n",
            " [ 92.   62.   20.   23.   20.    6.    1. ]\n",
            " [ 91.   63.   25.   26.   15.    6.    1. ]]\n"
          ]
        },
        {
          "output_type": "execute_result",
          "data": {
            "text/plain": [
              "30"
            ]
          },
          "metadata": {},
          "execution_count": 65
        }
      ]
    },
    {
      "cell_type": "code",
      "source": [
        "#Memecah Dataset ke Input dan Label\n",
        "inputTraining = dataTraining[:, 0:6]\n",
        "inputTesting = dataTesting[:, 0:6]\n",
        "labelTraining = dataTraining[:, 6]\n",
        "labelTesting = dataTesting[:, 6]"
      ],
      "metadata": {
        "id": "y3kqfolGXyR1"
      },
      "execution_count": 70,
      "outputs": []
    },
    {
      "cell_type": "code",
      "source": [
        "#Mendefinisikan Decision Tree Classifier\n",
        "model = tree.DecisionTreeClassifier()"
      ],
      "metadata": {
        "id": "KNzlOHbNX1RB"
      },
      "execution_count": 71,
      "outputs": []
    },
    {
      "cell_type": "code",
      "source": [
        "#Mentraining Model\n",
        "model = model.fit(inputTraining, labelTraining)"
      ],
      "metadata": {
        "id": "tK-1VCyGX4iy"
      },
      "execution_count": 72,
      "outputs": []
    },
    {
      "cell_type": "code",
      "source": [
        "#Memprediksi Input Data Testing\n",
        "hasilPrediksi = model.predict(inputTesting)\n",
        "print(\"Label Sebenarnya : \", labelTesting)\n",
        "print(\"Hasil Prediksi : \", hasilPrediksi)"
      ],
      "metadata": {
        "colab": {
          "base_uri": "https://localhost:8080/"
        },
        "id": "_vJbTR3eX8Vs",
        "outputId": "496d3444-8f9c-4b93-e83d-c9259ebb424e"
      },
      "execution_count": 73,
      "outputs": [
        {
          "output_type": "stream",
          "name": "stdout",
          "text": [
            "Label Sebenarnya :  [2. 2. 2. 2. 1. 1. 2. 2. 2. 2. 1. 1. 1. 1. 1. 2. 2. 2. 2. 2. 1. 1. 1. 1.\n",
            " 1. 1. 1. 1. 1. 1.]\n",
            "Hasil Prediksi :  [2. 2. 1. 2. 1. 1. 2. 2. 2. 2. 2. 1. 2. 1. 2. 1. 2. 2. 1. 2. 1. 2. 1. 2.\n",
            " 1. 1. 1. 2. 1. 1.]\n"
          ]
        }
      ]
    },
    {
      "cell_type": "code",
      "source": [
        "#Menghitung Akurasi\n",
        "prediksiBenar = (hasilPrediksi == labelTesting).sum()\n",
        "prediksiSalah = (hasilPrediksi != labelTesting).sum()\n",
        "print(\"Prediksi Benar :\", prediksiBenar, \"data\")\n",
        "print(\"Prediksi Salah :\", prediksiSalah, \"data\")\n",
        "print(\"Akurasi :\", prediksiBenar/(prediksiBenar+prediksiSalah) * 100, \"%\")"
      ],
      "metadata": {
        "colab": {
          "base_uri": "https://localhost:8080/"
        },
        "id": "TAgkrkIdX-Z8",
        "outputId": "5efeeff8-b75f-4a59-afc1-42bda68666fb"
      },
      "execution_count": 74,
      "outputs": [
        {
          "output_type": "stream",
          "name": "stdout",
          "text": [
            "Prediksi Benar : 21 data\n",
            "Prediksi Salah : 9 data\n",
            "Akurasi : 70.0 %\n"
          ]
        }
      ]
    }
  ]
}